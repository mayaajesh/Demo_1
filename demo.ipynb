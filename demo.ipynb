{
  "nbformat": 4,
  "nbformat_minor": 0,
  "metadata": {
    "colab": {
      "provenance": []
    },
    "kernelspec": {
      "name": "python3",
      "display_name": "Python 3"
    },
    "language_info": {
      "name": "python"
    }
  },
  "cells": [
    {
      "cell_type": "code",
      "execution_count": 2,
      "metadata": {
        "colab": {
          "base_uri": "https://localhost:8080/"
        },
        "id": "wn3w4LIS16oU",
        "outputId": "d7cabaa0-4a30-4745-f856-861f0722fb4f"
      },
      "outputs": [
        {
          "output_type": "stream",
          "name": "stdout",
          "text": [
            "Machine Learning and Artificial Intelligence Sep 2024 Batch\n"
          ]
        }
      ],
      "source": [
        "print('Machine Learning and Artificial Intelligence Sep 2024 Batch')"
      ]
    },
    {
      "cell_type": "code",
      "source": [],
      "metadata": {
        "id": "s3_bbkts2tNO"
      },
      "execution_count": null,
      "outputs": []
    },
    {
      "cell_type": "code",
      "source": [],
      "metadata": {
        "id": "YmPweFiY27J7"
      },
      "execution_count": null,
      "outputs": []
    }
  ]
}